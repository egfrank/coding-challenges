{
 "cells": [
  {
   "cell_type": "markdown",
   "metadata": {},
   "source": [
    "# Speeds and Data Structures in Python\n",
    "So I had an interview with Akuna (that i . . . surely didn't pass) where they asked all these got damn questions about speeds of python and dumb shit. So now I must learn."
   ]
  },
  {
   "cell_type": "markdown",
   "metadata": {},
   "source": [
    "Question 1: \n",
    "We get a  list and want to dedupe that list. How?\n",
    "\n",
    "So I said:"
   ]
  },
  {
   "cell_type": "code",
   "execution_count": 68,
   "metadata": {
    "collapsed": false
   },
   "outputs": [
    {
     "data": {
      "text/plain": [
       "[0, 1, 2, 3, 4, 5]"
      ]
     },
     "execution_count": 68,
     "metadata": {},
     "output_type": "execute_result"
    }
   ],
   "source": [
    "def dedupe_unord(duplicates):\n",
    "    return list(set(duplicates))\n",
    "dedupe_unord([4, 1, 2, 4, 5, 1, 2, 3, 0])"
   ]
  },
  {
   "cell_type": "markdown",
   "metadata": {},
   "source": [
    "The problem is this takes it out of order. So then I came up with"
   ]
  },
  {
   "cell_type": "code",
   "execution_count": 69,
   "metadata": {
    "collapsed": false
   },
   "outputs": [
    {
     "data": {
      "text/plain": [
       "[4, 1, 2, 5, 3, 0]"
      ]
     },
     "execution_count": 69,
     "metadata": {},
     "output_type": "execute_result"
    }
   ],
   "source": [
    "def dedupe_ord(duplicates):\n",
    "    out = list()\n",
    "    for element in duplicates:\n",
    "        if element not in out:\n",
    "            out.append(element)\n",
    "    return out\n",
    "dedupe([4, 1, 2, 4, 5, 1, 2, 3, 0])"
   ]
  },
  {
   "cell_type": "markdown",
   "metadata": {},
   "source": [
    "Which is a right answer. But then the interviewer asked if we could speed it up. \n",
    "In fact, according to the http://bigocheatsheet.com/ , that runs in O(n) time because we're searching a list (is this right?).\n",
    "Let's actually time it? I need to learn how to do this."
   ]
  },
  {
   "cell_type": "code",
   "execution_count": 21,
   "metadata": {
    "collapsed": false
   },
   "outputs": [
    {
     "name": "stdout",
     "output_type": "stream",
     "text": [
      "The slowest run took 4.37 times longer than the fastest. This could mean that an intermediate result is being cached.\n",
      "1000000 loops, best of 3: 1.48 µs per loop\n"
     ]
    }
   ],
   "source": [
    "# So with IPython we can call command line functions so let's do\n",
    "%timeit dedupe_unord([4, 1, 2, 4, 5, 1, 2, 3, 0])"
   ]
  },
  {
   "cell_type": "code",
   "execution_count": 38,
   "metadata": {
    "collapsed": false
   },
   "outputs": [
    {
     "name": "stdout",
     "output_type": "stream",
     "text": [
      "The slowest run took 5.50 times longer than the fastest. This could mean that an intermediate result is being cached.\n",
      "100000 loops, best of 3: 1.9 µs per loop\n"
     ]
    }
   ],
   "source": [
    "%timeit dedupe_ord([4, 1, 2, 4, 5, 1, 2, 3, 0])"
   ]
  },
  {
   "cell_type": "markdown",
   "metadata": {},
   "source": [
    "So we see that the ordered one is slow(er). During the interview I was trying to find out a way to take advantage of the set function but just make it faster, but couldn't really come up with anything. Let's see what people did tho.\n",
    "Here's a fun list: https://www.peterbe.com/plog/uniqifiers-benchmark. They say f5 is the best but I'm still figuring out what it does. That blog is fun tho. Here's f5:"
   ]
  },
  {
   "cell_type": "code",
   "execution_count": 25,
   "metadata": {
    "collapsed": false
   },
   "outputs": [],
   "source": [
    "def f5(seq, idfun=None): \n",
    "    if idfun is None:\n",
    "        def idfun(x): return x\n",
    "    seen = {}\n",
    "    result = []\n",
    "    for item in seq:\n",
    "        marker = idfun(item)\n",
    "        if marker in seen: continue\n",
    "        seen[marker] = 1\n",
    "        result.append(item)\n",
    "    return result"
   ]
  },
  {
   "cell_type": "code",
   "execution_count": 27,
   "metadata": {
    "collapsed": false
   },
   "outputs": [
    {
     "name": "stdout",
     "output_type": "stream",
     "text": [
      "The slowest run took 7.85 times longer than the fastest. This could mean that an intermediate result is being cached.\n",
      "100000 loops, best of 3: 3.78 µs per loop\n"
     ]
    }
   ],
   "source": [
    "%timeit f5([4, 1, 2, 4, 5, 1, 2, 3, 0])"
   ]
  },
  {
   "cell_type": "markdown",
   "metadata": {},
   "source": [
    "Finally here's a fun one from https://stackoverflow.com/questions/480214/how-do-you-remove-duplicates-from-a-list-in-whilst-preserving-order. They use a list comprehension but I'm like exploding it kind of. This took me like, awhile to fuckin' figure out."
   ]
  },
  {
   "cell_type": "code",
   "execution_count": 78,
   "metadata": {
    "collapsed": false
   },
   "outputs": [
    {
     "data": {
      "text/plain": [
       "[4, 1, 2, 5, 3, 0]"
      ]
     },
     "execution_count": 78,
     "metadata": {},
     "output_type": "execute_result"
    }
   ],
   "source": [
    "def f7(seq):\n",
    "    seen = set()\n",
    "    seen_add = seen.add\n",
    "    ans = list()\n",
    "    for x in seq:\n",
    "        if x not in seen:\n",
    "            ans.append(x)  \n",
    "            seen_add(x)\n",
    "        #print(seen) # check out what this does!\n",
    "    return ans\n",
    "f7([4, 1, 2, 4, 5, 1, 2, 3, 0])"
   ]
  },
  {
   "cell_type": "code",
   "execution_count": 67,
   "metadata": {
    "collapsed": false
   },
   "outputs": [
    {
     "name": "stdout",
     "output_type": "stream",
     "text": [
      "100000 loops, best of 3: 2.36 µs per loop\n"
     ]
    }
   ],
   "source": [
    "%timeit f7([4, 1, 2, 4, 5, 1, 2, 3, 0])"
   ]
  },
  {
   "cell_type": "code",
   "execution_count": 101,
   "metadata": {
    "collapsed": false
   },
   "outputs": [
    {
     "name": "stdout",
     "output_type": "stream",
     "text": [
      "[4, 1, 2, 5, 3, 0]\n"
     ]
    }
   ],
   "source": [
    "def dedup_hash(x):\n",
    "    answer = list()\n",
    "    bin_hash = {e:0 for e in x}\n",
    "    for i in x:\n",
    "        if bin_hash[i] == 0:\n",
    "            answer.append(i)\n",
    "            bin_hash[i] +=1\n",
    "    return answer\n",
    "print(dedup_hash([4, 1, 2, 4, 5, 1, 2, 3, 0])) "
   ]
  },
  {
   "cell_type": "code",
   "execution_count": 106,
   "metadata": {
    "collapsed": false
   },
   "outputs": [
    {
     "name": "stdout",
     "output_type": "stream",
     "text": [
      "[4, 1, 2, 5, 3, 0, 2, 3, 0]\n"
     ]
    },
    {
     "data": {
      "text/plain": [
       "[4, 1, 2, 5, 3, 0]"
      ]
     },
     "execution_count": 106,
     "metadata": {},
     "output_type": "execute_result"
    }
   ],
   "source": [
    "def dedeup_geek(x):\n",
    "    ip_ind = 0\n",
    "    res_ind = 0\n",
    "    bin_hash = {e:0 for e in x}\n",
    "    while ip_ind != len(x):\n",
    "        temp = x[ip_ind]\n",
    "        if bin_hash[temp] == 0:\n",
    "            bin_hash[temp] = 1\n",
    "            x[res_ind] = x[ip_ind]\n",
    "            res_ind+=1\n",
    "        ip_ind+=1\n",
    "    print(x)\n",
    "    return x[:res_ind]\n",
    "\n",
    "dedeup_geek([4, 1, 2, 4, 5, 1, 2, 3, 0])"
   ]
  },
  {
   "cell_type": "code",
   "execution_count": null,
   "metadata": {
    "collapsed": true
   },
   "outputs": [],
   "source": []
  },
  {
   "cell_type": "markdown",
   "metadata": {},
   "source": [
    "This takes as long which isn't really surprising because I'm not timing it right."
   ]
  },
  {
   "cell_type": "markdown",
   "metadata": {},
   "source": [
    "So I want to find out if there's a way that you can actually see if something is O(n) or O(log n) or whatever.\n",
    "\n",
    "### Some fun sources\n",
    "http://www.scipy-lectures.org/advanced/optimizing/\n",
    "\n",
    "https://wiki.python.org/moin/TimeComplexity\n",
    "\n",
    "http://interactivepython.org/runestone/static/pythonds/index.html\n",
    "\n",
    "https://medium.com/omarelgabrys-blog/data-structures-a-quick-comparison-6689d725b3b0\n",
    "\n",
    "https://stackoverflow.com/questions/487258/what-is-a-plain-english-explanation-of-big-o-notation"
   ]
  }
 ],
 "metadata": {
  "anaconda-cloud": {},
  "kernelspec": {
   "display_name": "Python [conda root]",
   "language": "python",
   "name": "conda-root-py"
  },
  "language_info": {
   "codemirror_mode": {
    "name": "ipython",
    "version": 3
   },
   "file_extension": ".py",
   "mimetype": "text/x-python",
   "name": "python",
   "nbconvert_exporter": "python",
   "pygments_lexer": "ipython3",
   "version": "3.5.2"
  }
 },
 "nbformat": 4,
 "nbformat_minor": 2
}
